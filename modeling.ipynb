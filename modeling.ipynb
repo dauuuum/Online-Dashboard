{
 "cells": [
  {
   "cell_type": "markdown",
   "metadata": {},
   "source": [
    "## EDA & Feature Engineering"
   ]
  },
  {
   "cell_type": "code",
   "execution_count": 1,
   "metadata": {},
   "outputs": [],
   "source": [
    "import pandas as pd\n",
    "import numpy as np\n",
    "import datetime as dt\n",
    "\n",
    "import matplotlib.pyplot as plt\n",
    "import plotly.express as px\n",
    "import plotly.graph_objs as go\n",
    "import seaborn as sns\n",
    "\n",
    "import warnings\n",
    "warnings.filterwarnings(action='ignore')"
   ]
  },
  {
   "cell_type": "code",
   "execution_count": 2,
   "metadata": {},
   "outputs": [
    {
     "name": "stdout",
     "output_type": "stream",
     "text": [
      "(8421434, 9)\n"
     ]
    },
    {
     "data": {
      "text/plain": [
       "<bound method NDFrame.head of                       event_time event_type  product_id          category_id  \\\n",
       "0        2020-01-01 00:00:00 UTC       view     5809910  1602943681873052386   \n",
       "1        2020-01-01 00:00:09 UTC       view     5812943  1487580012121948301   \n",
       "2        2020-01-01 00:00:19 UTC       view     5798924  1783999068867920626   \n",
       "3        2020-01-01 00:00:24 UTC       view     5793052  1487580005754995573   \n",
       "4        2020-01-01 00:00:25 UTC       view     5899926  2115334439910245200   \n",
       "...                          ...        ...         ...                  ...   \n",
       "4156677  2020-02-29 23:59:32 UTC       view     5885416  1487580005092295511   \n",
       "4156678  2020-02-29 23:59:39 UTC       cart     5550686  1487580008145748965   \n",
       "4156679  2020-02-29 23:59:45 UTC       view     5850628  1602943681873052386   \n",
       "4156680  2020-02-29 23:59:54 UTC       view     5716351  1487580010872045658   \n",
       "4156681  2020-02-29 23:59:59 UTC       view     5927709  1487580013950664926   \n",
       "\n",
       "        category_code     brand  price    user_id  \\\n",
       "0                 NaN   grattol   5.24  595414620   \n",
       "1                 NaN  kinetics   3.97  595414640   \n",
       "2                 NaN    zinger   3.97  595412617   \n",
       "3                 NaN       NaN   4.92  420652863   \n",
       "4                 NaN       NaN   3.92  484071203   \n",
       "...               ...       ...    ...        ...   \n",
       "4156677           NaN   grattol   6.27  622082947   \n",
       "4156678           NaN       NaN   1.11  459705611   \n",
       "4156679           NaN   grattol   5.24  622090043   \n",
       "4156680           NaN     irisk   0.79  619841242   \n",
       "4156681           NaN    de.lux   3.17  621669991   \n",
       "\n",
       "                                 user_session  \n",
       "0        4adb70bb-edbd-4981-b60f-a05bfd32683a  \n",
       "1        c8c5205d-be43-4f1d-aa56-4828b8151c8a  \n",
       "2        46a5010f-bd69-4fbe-a00d-bb17aa7b46f3  \n",
       "3        546f6af3-a517-4752-a98b-80c4c5860711  \n",
       "4        cff70ddf-529e-4b0c-a4fc-f43a749c0acb  \n",
       "...                                       ...  \n",
       "4156677  fb29909b-6ef5-4662-b4ee-288e73e5dc10  \n",
       "4156678  05d2add3-01f7-47ee-8364-27341673227f  \n",
       "4156679  ab7d349f-db5d-4790-8ab1-31e5c894459d  \n",
       "4156680  18af673b-7fb9-4202-a66d-5c855bc0fd2d  \n",
       "4156681  daa3c677-5360-4327-847e-d29658716b99  \n",
       "\n",
       "[8421434 rows x 9 columns]>"
      ]
     },
     "execution_count": 2,
     "metadata": {},
     "output_type": "execute_result"
    }
   ],
   "source": [
    "# 데이터셋 불러오기\n",
    "df1 = pd.read_csv('data/2020-Jan.csv')\n",
    "df2 = pd.read_csv('data/2020-Feb.csv')\n",
    "df = pd.concat([df1,df2])\n",
    "print(df.shape)\n",
    "df.head"
   ]
  },
  {
   "cell_type": "code",
   "execution_count": 3,
   "metadata": {},
   "outputs": [
    {
     "name": "stdout",
     "output_type": "stream",
     "text": [
      "0.14614779383178683\n"
     ]
    }
   ],
   "source": [
    "# 이탈율\n",
    "count = {}\n",
    "lists = [i for i in df['user_session']]\n",
    "for i in lists:\n",
    "    try: count[i] += 1\n",
    "    except: count[i] = 1\n",
    "\n",
    "ans = [value for key, value in count.items() if value == 1]\n",
    "len(ans)\n",
    "\n",
    "bounce_rate = len(ans) / len(lists)\n",
    "print(bounce_rate)\n"
   ]
  },
  {
   "cell_type": "code",
   "execution_count": 4,
   "metadata": {},
   "outputs": [
    {
     "data": {
      "text/html": [
       "<div>\n",
       "<style scoped>\n",
       "    .dataframe tbody tr th:only-of-type {\n",
       "        vertical-align: middle;\n",
       "    }\n",
       "\n",
       "    .dataframe tbody tr th {\n",
       "        vertical-align: top;\n",
       "    }\n",
       "\n",
       "    .dataframe thead th {\n",
       "        text-align: right;\n",
       "    }\n",
       "</style>\n",
       "<table border=\"1\" class=\"dataframe\">\n",
       "  <thead>\n",
       "    <tr style=\"text-align: right;\">\n",
       "      <th></th>\n",
       "      <th>user_session</th>\n",
       "      <th>event_type</th>\n",
       "    </tr>\n",
       "  </thead>\n",
       "  <tbody>\n",
       "    <tr>\n",
       "      <th>0</th>\n",
       "      <td>4adb70bb-edbd-4981-b60f-a05bfd32683a</td>\n",
       "      <td>view</td>\n",
       "    </tr>\n",
       "    <tr>\n",
       "      <th>1</th>\n",
       "      <td>c8c5205d-be43-4f1d-aa56-4828b8151c8a</td>\n",
       "      <td>view</td>\n",
       "    </tr>\n",
       "    <tr>\n",
       "      <th>2</th>\n",
       "      <td>cff70ddf-529e-4b0c-a4fc-f43a749c0acb</td>\n",
       "      <td>view</td>\n",
       "    </tr>\n",
       "    <tr>\n",
       "      <th>3</th>\n",
       "      <td>e04ed824-4857-40e4-a783-aca4001bc05b</td>\n",
       "      <td>view</td>\n",
       "    </tr>\n",
       "    <tr>\n",
       "      <th>4</th>\n",
       "      <td>2d7bf387-7c51-4a5f-bce8-c3bb0c9c2ab7</td>\n",
       "      <td>view</td>\n",
       "    </tr>\n",
       "    <tr>\n",
       "      <th>...</th>\n",
       "      <td>...</td>\n",
       "      <td>...</td>\n",
       "    </tr>\n",
       "    <tr>\n",
       "      <th>1230769</th>\n",
       "      <td>a859392f-9169-4f8a-b761-0e106f666259</td>\n",
       "      <td>view</td>\n",
       "    </tr>\n",
       "    <tr>\n",
       "      <th>1230770</th>\n",
       "      <td>062d2f70-2039-4e9d-8530-ec12874e8cf0</td>\n",
       "      <td>view</td>\n",
       "    </tr>\n",
       "    <tr>\n",
       "      <th>1230771</th>\n",
       "      <td>268c0dae-3755-469d-bc7c-8e56f37888d9</td>\n",
       "      <td>view</td>\n",
       "    </tr>\n",
       "    <tr>\n",
       "      <th>1230772</th>\n",
       "      <td>fd47f5cd-6ed1-43f1-a9c6-df6f0f72538a</td>\n",
       "      <td>view</td>\n",
       "    </tr>\n",
       "    <tr>\n",
       "      <th>1230773</th>\n",
       "      <td>cc8a2df5-2541-453d-a465-b0b9f888e71c</td>\n",
       "      <td>view</td>\n",
       "    </tr>\n",
       "  </tbody>\n",
       "</table>\n",
       "<p>1230774 rows × 2 columns</p>\n",
       "</div>"
      ],
      "text/plain": [
       "                                 user_session event_type\n",
       "0        4adb70bb-edbd-4981-b60f-a05bfd32683a       view\n",
       "1        c8c5205d-be43-4f1d-aa56-4828b8151c8a       view\n",
       "2        cff70ddf-529e-4b0c-a4fc-f43a749c0acb       view\n",
       "3        e04ed824-4857-40e4-a783-aca4001bc05b       view\n",
       "4        2d7bf387-7c51-4a5f-bce8-c3bb0c9c2ab7       view\n",
       "...                                       ...        ...\n",
       "1230769  a859392f-9169-4f8a-b761-0e106f666259       view\n",
       "1230770  062d2f70-2039-4e9d-8530-ec12874e8cf0       view\n",
       "1230771  268c0dae-3755-469d-bc7c-8e56f37888d9       view\n",
       "1230772  fd47f5cd-6ed1-43f1-a9c6-df6f0f72538a       view\n",
       "1230773  cc8a2df5-2541-453d-a465-b0b9f888e71c       view\n",
       "\n",
       "[1230774 rows x 2 columns]"
      ]
     },
     "execution_count": 4,
     "metadata": {},
     "output_type": "execute_result"
    }
   ],
   "source": [
    "bounce = [key for key, value in count.items() if value == 1]\n",
    "b = pd.DataFrame({'user_session':bounce})\n",
    "b = pd.merge(b, df[['user_session','event_type']], on='user_session', how='left')\n",
    "b"
   ]
  },
  {
   "cell_type": "code",
   "execution_count": 5,
   "metadata": {},
   "outputs": [
    {
     "data": {
      "text/html": [
       "<div>\n",
       "<style scoped>\n",
       "    .dataframe tbody tr th:only-of-type {\n",
       "        vertical-align: middle;\n",
       "    }\n",
       "\n",
       "    .dataframe tbody tr th {\n",
       "        vertical-align: top;\n",
       "    }\n",
       "\n",
       "    .dataframe thead th {\n",
       "        text-align: right;\n",
       "    }\n",
       "</style>\n",
       "<table border=\"1\" class=\"dataframe\">\n",
       "  <thead>\n",
       "    <tr style=\"text-align: right;\">\n",
       "      <th></th>\n",
       "      <th>user_session</th>\n",
       "    </tr>\n",
       "    <tr>\n",
       "      <th>event_type</th>\n",
       "      <th></th>\n",
       "    </tr>\n",
       "  </thead>\n",
       "  <tbody>\n",
       "    <tr>\n",
       "      <th>cart</th>\n",
       "      <td>25306</td>\n",
       "    </tr>\n",
       "    <tr>\n",
       "      <th>purchase</th>\n",
       "      <td>549</td>\n",
       "    </tr>\n",
       "    <tr>\n",
       "      <th>remove_from_cart</th>\n",
       "      <td>4036</td>\n",
       "    </tr>\n",
       "    <tr>\n",
       "      <th>view</th>\n",
       "      <td>1200883</td>\n",
       "    </tr>\n",
       "  </tbody>\n",
       "</table>\n",
       "</div>"
      ],
      "text/plain": [
       "                  user_session\n",
       "event_type                    \n",
       "cart                     25306\n",
       "purchase                   549\n",
       "remove_from_cart          4036\n",
       "view                   1200883"
      ]
     },
     "execution_count": 5,
     "metadata": {},
     "output_type": "execute_result"
    }
   ],
   "source": [
    "b.groupby(['event_type']).count()"
   ]
  },
  {
   "cell_type": "code",
   "execution_count": 6,
   "metadata": {},
   "outputs": [
    {
     "name": "stdout",
     "output_type": "stream",
     "text": [
      "<class 'pandas.core.frame.DataFrame'>\n",
      "Int64Index: 8421434 entries, 0 to 4156681\n",
      "Data columns (total 9 columns):\n",
      " #   Column         Dtype  \n",
      "---  ------         -----  \n",
      " 0   event_time     object \n",
      " 1   event_type     object \n",
      " 2   product_id     int64  \n",
      " 3   category_id    int64  \n",
      " 4   category_code  object \n",
      " 5   brand          object \n",
      " 6   price          float64\n",
      " 7   user_id        int64  \n",
      " 8   user_session   object \n",
      "dtypes: float64(1), int64(3), object(5)\n",
      "memory usage: 642.5+ MB\n"
     ]
    }
   ],
   "source": [
    "# 데이터 타입 확인\n",
    "df.info()"
   ]
  },
  {
   "cell_type": "code",
   "execution_count": 7,
   "metadata": {},
   "outputs": [
    {
     "data": {
      "text/plain": [
       "event_time             0\n",
       "event_type             0\n",
       "product_id             0\n",
       "category_id            0\n",
       "category_code    8269530\n",
       "brand            3601538\n",
       "price                  0\n",
       "user_id                0\n",
       "user_session        2369\n",
       "dtype: int64"
      ]
     },
     "execution_count": 7,
     "metadata": {},
     "output_type": "execute_result"
    }
   ],
   "source": [
    "# 데이터 결측치 확인\n",
    "df.isnull().sum()"
   ]
  },
  {
   "cell_type": "code",
   "execution_count": 8,
   "metadata": {},
   "outputs": [
    {
     "name": "stdout",
     "output_type": "stream",
     "text": [
      "8421434\n",
      "737093\n",
      "50924\n",
      "505790\n"
     ]
    }
   ],
   "source": [
    "# 데이터 규모\n",
    "print(df.shape[0]) # 로그\n",
    "print(df['user_id'].nunique()) # 사용자\n",
    "print(df['product_id'].nunique()) # 제품\n",
    "print(df[(df.event_type =='purchase')].shape[0]) # 구매"
   ]
  },
  {
   "cell_type": "code",
   "execution_count": 9,
   "metadata": {},
   "outputs": [
    {
     "data": {
      "text/plain": [
       "(8421434, 9)"
      ]
     },
     "execution_count": 9,
     "metadata": {},
     "output_type": "execute_result"
    }
   ],
   "source": [
    "# 특성 엔지니어링\n",
    "def int_to_str(n):\n",
    "    res = []\n",
    "    for i in n:\n",
    "        res.append(str(i))\n",
    "    return res\n",
    "\n",
    "def preprocess(df): \n",
    "    # 1) int to string\n",
    "    df['product_id'] = int_to_str(df['product_id'])\n",
    "    df['category_id'] = int_to_str(df['category_id'])\n",
    "    df['user_id'] = int_to_str(df['user_id'])\n",
    "\n",
    "    # 2) event_time type - obj to datetime\n",
    "    df['datetime'] = df['event_time'].apply(lambda d: str(d)[0:19]) # UTC 제거\n",
    "    df['datetime'] = pd.to_datetime(df['datetime'])\n",
    "    \n",
    "    # 3) 결측률 높은 특성 제거\n",
    "    labels = df.isnull().mean()\n",
    "    selected_features = labels[labels <= 0.5].index.tolist()\n",
    "    df = df[selected_features]\n",
    "\n",
    "    # 4) brand 컬럼 - 결측값 대체\n",
    "    df['brand'] = df['brand'].replace(np.nan,'Not Available')\n",
    "\n",
    "    # 5) user_session 컬럼 제거\n",
    "    # 사용자의 임시 세션 ID로 장시간 사용 멈춤에서 온라인 쇼핑몰로 돌아올 때마다 변경되어, 분석 프로젝트에서 불필요하다고 판단\n",
    "    df.drop(columns=['user_session'], inplace=True)\n",
    "\n",
    "    # 6) 주문번호 컬럼 생성\n",
    "    df['ordernumber'] = df['user_id'] + df['product_id'] + df['category_id']\n",
    "\n",
    "    return df\n",
    "\n",
    "data = preprocess(df)\n",
    "data.shape"
   ]
  },
  {
   "cell_type": "code",
   "execution_count": 10,
   "metadata": {},
   "outputs": [
    {
     "data": {
      "text/html": [
       "<div>\n",
       "<style scoped>\n",
       "    .dataframe tbody tr th:only-of-type {\n",
       "        vertical-align: middle;\n",
       "    }\n",
       "\n",
       "    .dataframe tbody tr th {\n",
       "        vertical-align: top;\n",
       "    }\n",
       "\n",
       "    .dataframe thead th {\n",
       "        text-align: right;\n",
       "    }\n",
       "</style>\n",
       "<table border=\"1\" class=\"dataframe\">\n",
       "  <thead>\n",
       "    <tr style=\"text-align: right;\">\n",
       "      <th></th>\n",
       "      <th>event_type</th>\n",
       "      <th>count</th>\n",
       "    </tr>\n",
       "  </thead>\n",
       "  <tbody>\n",
       "    <tr>\n",
       "      <th>0</th>\n",
       "      <td>view</td>\n",
       "      <td>3991194</td>\n",
       "    </tr>\n",
       "    <tr>\n",
       "      <th>1</th>\n",
       "      <td>cart</td>\n",
       "      <td>2297017</td>\n",
       "    </tr>\n",
       "    <tr>\n",
       "      <th>2</th>\n",
       "      <td>remove_from_cart</td>\n",
       "      <td>1627433</td>\n",
       "    </tr>\n",
       "    <tr>\n",
       "      <th>3</th>\n",
       "      <td>purchase</td>\n",
       "      <td>505790</td>\n",
       "    </tr>\n",
       "  </tbody>\n",
       "</table>\n",
       "</div>"
      ],
      "text/plain": [
       "         event_type    count\n",
       "0              view  3991194\n",
       "1              cart  2297017\n",
       "2  remove_from_cart  1627433\n",
       "3          purchase   505790"
      ]
     },
     "execution_count": 10,
     "metadata": {},
     "output_type": "execute_result"
    },
    {
     "data": {
      "image/png": "[encoded data removed]",
      "text/plain": [
       "<Figure size 432x288 with 1 Axes>"
      ]
     },
     "metadata": {
      "needs_background": "light"
     },
     "output_type": "display_data"
    }
   ],
   "source": [
    "# 고객 행동 단계별 비율\n",
    "customer_behavior = df['event_type'].value_counts().reset_index().rename(columns={'index':'event_type','event_type':'count'})\n",
    "sns.barplot(data= customer_behavior, x= 'event_type', y= 'count');\n",
    "customer_behavior"
   ]
  },
  {
   "cell_type": "code",
   "execution_count": 11,
   "metadata": {},
   "outputs": [
    {
     "data": {
      "application/vnd.plotly.v1+json": {
       "config": {
        "plotlyServerURL": "https://plot.ly"
       },
       "data": [
        {
         "hovertemplate": "count=%{x}<br>event_type=%{y}<extra></extra>",
         "legendgroup": "",
         "marker": {
          "color": "#636efa"
         },
         "name": "",
         "orientation": "h",
         "showlegend": false,
         "texttemplate": "%{x:.f}",
         "type": "funnel",
         "x": [
          3991194,
          2297017,
          1627433,
          505790
         ],
         "xaxis": "x",
         "y": [
          "view",
          "cart",
          "remove_from_cart",
          "purchase"
         ],
         "yaxis": "y"
        }
       ],
       "layout": {
        "legend": {
         "tracegroupgap": 0
        },
        "margin": {
         "t": 60
        },
        "template": {
         "data": {
          "bar": [
           {
            "error_x": {
             "color": "#2a3f5f"
            },
            "error_y": {
             "color": "#2a3f5f"
            },
            "marker": {
             "line": {
              "color": "#E5ECF6",
              "width": 0.5
             },
             "pattern": {
              "fillmode": "overlay",
              "size": 10,
              "solidity": 0.2
             }
            },
            "type": "bar"
           }
          ],
          "barpolar": [
           {
            "marker": {
             "line": {
              "color": "#E5ECF6",
              "width": 0.5
             },
             "pattern": {
              "fillmode": "overlay",
              "size": 10,
              "solidity": 0.2
             }
            },
            "type": "barpolar"
           }
          ],
          "carpet": [
           {
            "aaxis": {
             "endlinecolor": "#2a3f5f",
             "gridcolor": "white",
             "linecolor": "white",
             "minorgridcolor": "white",
             "startlinecolor": "#2a3f5f"
            },
            "baxis": {
             "endlinecolor": "#2a3f5f",
             "gridcolor": "white",
             "linecolor": "white",
             "minorgridcolor": "white",
             "startlinecolor": "#2a3f5f"
            },
            "type": "carpet"
           }
          ],
          "choropleth": [
           {
            "colorbar": {
             "outlinewidth": 0,
             "ticks": ""
            },
            "type": "choropleth"
           }
          ],
          "contour": [
           {
            "colorbar": {
             "outlinewidth": 0,
             "ticks": ""
            },
            "colorscale": [
             [
              0,
              "#0d0887"
             ],
             [
              0.1111111111111111,
              "#46039f"
             ],
             [
              0.2222222222222222,
              "#7201a8"
             ],
             [
              0.3333333333333333,
              "#9c179e"
             ],
             [
              0.4444444444444444,
              "#bd3786"
             ],
             [
              0.5555555555555556,
              "#d8576b"
             ],
             [
              0.6666666666666666,
              "#ed7953"
             ],
             [
              0.7777777777777778,
              "#fb9f3a"
             ],
             [
              0.8888888888888888,
              "#fdca26"
             ],
             [
              1,
              "#f0f921"
             ]
            ],
            "type": "contour"
           }
          ],
          "contourcarpet": [
           {
            "colorbar": {
             "outlinewidth": 0,
             "ticks": ""
            },
            "type": "contourcarpet"
           }
          ],
          "heatmap": [
           {
            "colorbar": {
             "outlinewidth": 0,
             "ticks": ""
            },
            "colorscale": [
             [
              0,
              "#0d0887"
             ],
             [
              0.1111111111111111,
              "#46039f"
             ],
             [
              0.2222222222222222,
              "#7201a8"
             ],
             [
              0.3333333333333333,
              "#9c179e"
             ],
             [
              0.4444444444444444,
              "#bd3786"
             ],
             [
              0.5555555555555556,
              "#d8576b"
             ],
             [
              0.6666666666666666,
              "#ed7953"
             ],
             [
              0.7777777777777778,
              "#fb9f3a"
             ],
             [
              0.8888888888888888,
              "#fdca26"
             ],
             [
              1,
              "#f0f921"
             ]
            ],
            "type": "heatmap"
           }
          ],
          "heatmapgl": [
           {
            "colorbar": {
             "outlinewidth": 0,
             "ticks": ""
            },
            "colorscale": [
             [
              0,
              "#0d0887"
             ],
             [
              0.1111111111111111,
              "#46039f"
             ],
             [
              0.2222222222222222,
              "#7201a8"
             ],
             [
              0.3333333333333333,
              "#9c179e"
             ],
             [
              0.4444444444444444,
              "#bd3786"
             ],
             [
              0.5555555555555556,
              "#d8576b"
             ],
             [
              0.6666666666666666,
              "#ed7953"
             ],
             [
              0.7777777777777778,
              "#fb9f3a"
             ],
             [
              0.8888888888888888,
              "#fdca26"
             ],
             [
              1,
              "#f0f921"
             ]
            ],
            "type": "heatmapgl"
           }
          ],
          "histogram": [
           {
            "marker": {
             "pattern": {
              "fillmode": "overlay",
              "size": 10,
              "solidity": 0.2
             }
            },
            "type": "histogram"
           }
          ],
          "histogram2d": [
           {
            "colorbar": {
             "outlinewidth": 0,
             "ticks": ""
            },
            "colorscale": [
             [
              0,
              "#0d0887"
             ],
             [
              0.1111111111111111,
              "#46039f"
             ],
             [
              0.2222222222222222,
              "#7201a8"
             ],
             [
              0.3333333333333333,
              "#9c179e"
             ],
             [
              0.4444444444444444,
              "#bd3786"
             ],
             [
              0.5555555555555556,
              "#d8576b"
             ],
             [
              0.6666666666666666,
              "#ed7953"
             ],
             [
              0.7777777777777778,
              "#fb9f3a"
             ],
             [
              0.8888888888888888,
              "#fdca26"
             ],
             [
              1,
              "#f0f921"
             ]
            ],
            "type": "histogram2d"
           }
          ],
          "histogram2dcontour": [
           {
            "colorbar": {
             "outlinewidth": 0,
             "ticks": ""
            },
            "colorscale": [
             [
              0,
              "#0d0887"
             ],
             [
              0.1111111111111111,
              "#46039f"
             ],
             [
              0.2222222222222222,
              "#7201a8"
             ],
             [
              0.3333333333333333,
              "#9c179e"
             ],
             [
              0.4444444444444444,
              "#bd3786"
             ],
             [
              0.5555555555555556,
              "#d8576b"
             ],
             [
              0.6666666666666666,
              "#ed7953"
             ],
             [
              0.7777777777777778,
              "#fb9f3a"
             ],
             [
              0.8888888888888888,
              "#fdca26"
             ],
             [
              1,
              "#f0f921"
             ]
            ],
            "type": "histogram2dcontour"
           }
          ],
          "mesh3d": [
           {
            "colorbar": {
             "outlinewidth": 0,
             "ticks": ""
            },
            "type": "mesh3d"
           }
          ],
          "parcoords": [
           {
            "line": {
             "colorbar": {
              "outlinewidth": 0,
              "ticks": ""
             }
            },
            "type": "parcoords"
           }
          ],
          "pie": [
           {
            "automargin": true,
            "type": "pie"
           }
          ],
          "scatter": [
           {
            "marker": {
             "colorbar": {
              "outlinewidth": 0,
              "ticks": ""
             }
            },
            "type": "scatter"
           }
          ],
          "scatter3d": [
           {
            "line": {
             "colorbar": {
              "outlinewidth": 0,
              "ticks": ""
             }
            },
            "marker": {
             "colorbar": {
              "outlinewidth": 0,
              "ticks": ""
             }
            },
            "type": "scatter3d"
           }
          ],
          "scattercarpet": [
           {
            "marker": {
             "colorbar": {
              "outlinewidth": 0,
              "ticks": ""
             }
            },
            "type": "scattercarpet"
           }
          ],
          "scattergeo": [
           {
            "marker": {
             "colorbar": {
              "outlinewidth": 0,
              "ticks": ""
             }
            },
            "type": "scattergeo"
           }
          ],
          "scattergl": [
           {
            "marker": {
             "colorbar": {
              "outlinewidth": 0,
              "ticks": ""
             }
            },
            "type": "scattergl"
           }
          ],
          "scattermapbox": [
           {
            "marker": {
             "colorbar": {
              "outlinewidth": 0,
              "ticks": ""
             }
            },
            "type": "scattermapbox"
           }
          ],
          "scatterpolar": [
           {
            "marker": {
             "colorbar": {
              "outlinewidth": 0,
              "ticks": ""
             }
            },
            "type": "scatterpolar"
           }
          ],
          "scatterpolargl": [
           {
            "marker": {
             "colorbar": {
              "outlinewidth": 0,
              "ticks": ""
             }
            },
            "type": "scatterpolargl"
           }
          ],
          "scatterternary": [
           {
            "marker": {
             "colorbar": {
              "outlinewidth": 0,
              "ticks": ""
             }
            },
            "type": "scatterternary"
           }
          ],
          "surface": [
           {
            "colorbar": {
             "outlinewidth": 0,
             "ticks": ""
            },
            "colorscale": [
             [
              0,
              "#0d0887"
             ],
             [
              0.1111111111111111,
              "#46039f"
             ],
             [
              0.2222222222222222,
              "#7201a8"
             ],
             [
              0.3333333333333333,
              "#9c179e"
             ],
             [
              0.4444444444444444,
              "#bd3786"
             ],
             [
              0.5555555555555556,
              "#d8576b"
             ],
             [
              0.6666666666666666,
              "#ed7953"
             ],
             [
              0.7777777777777778,
              "#fb9f3a"
             ],
             [
              0.8888888888888888,
              "#fdca26"
             ],
             [
              1,
              "#f0f921"
             ]
            ],
            "type": "surface"
           }
          ],
          "table": [
           {
            "cells": {
             "fill": {
              "color": "#EBF0F8"
             },
             "line": {
              "color": "white"
             }
            },
            "header": {
             "fill": {
              "color": "#C8D4E3"
             },
             "line": {
              "color": "white"
             }
            },
            "type": "table"
           }
          ]
         },
         "layout": {
          "annotationdefaults": {
           "arrowcolor": "#2a3f5f",
           "arrowhead": 0,
           "arrowwidth": 1
          },
          "autotypenumbers": "strict",
          "coloraxis": {
           "colorbar": {
            "outlinewidth": 0,
            "ticks": ""
           }
          },
          "colorscale": {
           "diverging": [
            [
             0,
             "#8e0152"
            ],
            [
             0.1,
             "#c51b7d"
            ],
            [
             0.2,
             "#de77ae"
            ],
            [
             0.3,
             "#f1b6da"
            ],
            [
             0.4,
             "#fde0ef"
            ],
            [
             0.5,
             "#f7f7f7"
            ],
            [
             0.6,
             "#e6f5d0"
            ],
            [
             0.7,
             "#b8e186"
            ],
            [
             0.8,
             "#7fbc41"
            ],
            [
             0.9,
             "#4d9221"
            ],
            [
             1,
             "#276419"
            ]
           ],
           "sequential": [
            [
             0,
             "#0d0887"
            ],
            [
             0.1111111111111111,
             "#46039f"
            ],
            [
             0.2222222222222222,
             "#7201a8"
            ],
            [
             0.3333333333333333,
             "#9c179e"
            ],
            [
             0.4444444444444444,
             "#bd3786"
            ],
            [
             0.5555555555555556,
             "#d8576b"
            ],
            [
             0.6666666666666666,
             "#ed7953"
            ],
            [
             0.7777777777777778,
             "#fb9f3a"
            ],
            [
             0.8888888888888888,
             "#fdca26"
            ],
            [
             1,
             "#f0f921"
            ]
           ],
           "sequentialminus": [
            [
             0,
             "#0d0887"
            ],
            [
             0.1111111111111111,
             "#46039f"
            ],
            [
             0.2222222222222222,
             "#7201a8"
            ],
            [
             0.3333333333333333,
             "#9c179e"
            ],
            [
             0.4444444444444444,
             "#bd3786"
            ],
            [
             0.5555555555555556,
             "#d8576b"
            ],
            [
             0.6666666666666666,
             "#ed7953"
            ],
            [
             0.7777777777777778,
             "#fb9f3a"
            ],
            [
             0.8888888888888888,
             "#fdca26"
            ],
            [
             1,
             "#f0f921"
            ]
           ]
          },
          "colorway": [
           "#636efa",
           "#EF553B",
           "#00cc96",
           "#ab63fa",
           "#FFA15A",
           "#19d3f3",
           "#FF6692",
           "#B6E880",
           "#FF97FF",
           "#FECB52"
          ],
          "font": {
           "color": "#2a3f5f"
          },
          "geo": {
           "bgcolor": "white",
           "lakecolor": "white",
           "landcolor": "#E5ECF6",
           "showlakes": true,
           "showland": true,
           "subunitcolor": "white"
          },
          "hoverlabel": {
           "align": "left"
          },
          "hovermode": "closest",
          "mapbox": {
           "style": "light"
          },
          "paper_bgcolor": "white",
          "plot_bgcolor": "#E5ECF6",
          "polar": {
           "angularaxis": {
            "gridcolor": "white",
            "linecolor": "white",
            "ticks": ""
           },
           "bgcolor": "#E5ECF6",
           "radialaxis": {
            "gridcolor": "white",
            "linecolor": "white",
            "ticks": ""
           }
          },
          "scene": {
           "xaxis": {
            "backgroundcolor": "#E5ECF6",
            "gridcolor": "white",
            "gridwidth": 2,
            "linecolor": "white",
            "showbackground": true,
            "ticks": "",
            "zerolinecolor": "white"
           },
           "yaxis": {
            "backgroundcolor": "#E5ECF6",
            "gridcolor": "white",
            "gridwidth": 2,
            "linecolor": "white",
            "showbackground": true,
            "ticks": "",
            "zerolinecolor": "white"
           },
           "zaxis": {
            "backgroundcolor": "#E5ECF6",
            "gridcolor": "white",
            "gridwidth": 2,
            "linecolor": "white",
            "showbackground": true,
            "ticks": "",
            "zerolinecolor": "white"
           }
          },
          "shapedefaults": {
           "line": {
            "color": "#2a3f5f"
           }
          },
          "ternary": {
           "aaxis": {
            "gridcolor": "white",
            "linecolor": "white",
            "ticks": ""
           },
           "baxis": {
            "gridcolor": "white",
            "linecolor": "white",
            "ticks": ""
           },
           "bgcolor": "#E5ECF6",
           "caxis": {
            "gridcolor": "white",
            "linecolor": "white",
            "ticks": ""
           }
          },
          "title": {
           "x": 0.05
          },
          "xaxis": {
           "automargin": true,
           "gridcolor": "white",
           "linecolor": "white",
           "ticks": "",
           "title": {
            "standoff": 15
           },
           "zerolinecolor": "white",
           "zerolinewidth": 2
          },
          "yaxis": {
           "automargin": true,
           "gridcolor": "white",
           "linecolor": "white",
           "ticks": "",
           "title": {
            "standoff": 15
           },
           "zerolinecolor": "white",
           "zerolinewidth": 2
          }
         }
        },
        "xaxis": {
         "anchor": "y",
         "domain": [
          0,
          1
         ],
         "title": {
          "text": "count"
         }
        },
        "yaxis": {
         "anchor": "x",
         "domain": [
          0,
          1
         ],
         "title": {
          "text": "event_type"
         }
        }
       }
      }
     },
     "metadata": {},
     "output_type": "display_data"
    }
   ],
   "source": [
    "fig = px.funnel(customer_behavior, \n",
    "                x='count', \n",
    "                y='event_type')\n",
    "fig.update_traces(texttemplate='%{x:.f}')\n",
    "fig.show()\n",
    "\n",
    "# HTML 내보내기\n",
    "fig = go.Figure(data=fig)\n",
    "fig.write_html('example_funnel.html')"
   ]
  },
  {
   "cell_type": "code",
   "execution_count": 12,
   "metadata": {},
   "outputs": [
    {
     "data": {
      "image/png": "[encoded data removed]",
      "text/plain": [
       "<Figure size 432x288 with 1 Axes>"
      ]
     },
     "metadata": {},
     "output_type": "display_data"
    }
   ],
   "source": [
    "# 구매전환율\n",
    "view_n_purchase = df['event_type'].value_counts()\n",
    "purchase_conversion_rate = view_n_purchase['purchase'] / view_n_purchase['view']\n",
    "purchase_conversion_rate\n",
    "\n",
    "pie_df = pd.DataFrame({\"ratio\": [purchase_conversion_rate*100, 100-(purchase_conversion_rate*100)], \"labels\":['purchase_conversion_rate', '']})\n",
    "\n",
    "# ratio = [purchase_conversion_rate*100, 100-(purchase_conversion_rate*100)]\n",
    "# labels = ['purchase_conversion_rate', '']\n",
    "# colors = ['#ffc000', '#c0c0c0']\n",
    "# wedgeprops={'width': 0.5, 'edgecolor': 'w', 'linewidth': 3}\n",
    "\n",
    "# plt.pie(ratio, autopct='%.1f%%', startangle=90, counterclock=False, colors=colors, wedgeprops=wedgeprops)\n",
    "# plt.show()"
   ]
  },
  {
   "cell_type": "code",
   "execution_count": 13,
   "metadata": {},
   "outputs": [
    {
     "data": {
      "text/html": [
       "<div>\n",
       "<style scoped>\n",
       "    .dataframe tbody tr th:only-of-type {\n",
       "        vertical-align: middle;\n",
       "    }\n",
       "\n",
       "    .dataframe tbody tr th {\n",
       "        vertical-align: top;\n",
       "    }\n",
       "\n",
       "    .dataframe thead th {\n",
       "        text-align: right;\n",
       "    }\n",
       "</style>\n",
       "<table border=\"1\" class=\"dataframe\">\n",
       "  <thead>\n",
       "    <tr style=\"text-align: right;\">\n",
       "      <th></th>\n",
       "      <th>event_time</th>\n",
       "      <th>price</th>\n",
       "      <th>m</th>\n",
       "      <th>d</th>\n",
       "      <th>t</th>\n",
       "    </tr>\n",
       "  </thead>\n",
       "  <tbody>\n",
       "    <tr>\n",
       "      <th>60</th>\n",
       "      <td>2020-01-01 00:06:07 UTC</td>\n",
       "      <td>2.16</td>\n",
       "      <td>01</td>\n",
       "      <td>01</td>\n",
       "      <td>00</td>\n",
       "    </tr>\n",
       "    <tr>\n",
       "      <th>61</th>\n",
       "      <td>2020-01-01 00:06:07 UTC</td>\n",
       "      <td>7.92</td>\n",
       "      <td>01</td>\n",
       "      <td>01</td>\n",
       "      <td>00</td>\n",
       "    </tr>\n",
       "    <tr>\n",
       "      <th>590</th>\n",
       "      <td>2020-01-01 00:51:38 UTC</td>\n",
       "      <td>14.51</td>\n",
       "      <td>01</td>\n",
       "      <td>01</td>\n",
       "      <td>00</td>\n",
       "    </tr>\n",
       "    <tr>\n",
       "      <th>591</th>\n",
       "      <td>2020-01-01 00:52:00 UTC</td>\n",
       "      <td>19.37</td>\n",
       "      <td>01</td>\n",
       "      <td>01</td>\n",
       "      <td>00</td>\n",
       "    </tr>\n",
       "    <tr>\n",
       "      <th>593</th>\n",
       "      <td>2020-01-01 00:52:11 UTC</td>\n",
       "      <td>10.95</td>\n",
       "      <td>01</td>\n",
       "      <td>01</td>\n",
       "      <td>00</td>\n",
       "    </tr>\n",
       "    <tr>\n",
       "      <th>...</th>\n",
       "      <td>...</td>\n",
       "      <td>...</td>\n",
       "      <td>...</td>\n",
       "      <td>...</td>\n",
       "      <td>...</td>\n",
       "    </tr>\n",
       "    <tr>\n",
       "      <th>4156349</th>\n",
       "      <td>2020-02-29 23:46:01 UTC</td>\n",
       "      <td>49.21</td>\n",
       "      <td>02</td>\n",
       "      <td>29</td>\n",
       "      <td>23</td>\n",
       "    </tr>\n",
       "    <tr>\n",
       "      <th>4156563</th>\n",
       "      <td>2020-02-29 23:54:44 UTC</td>\n",
       "      <td>7.83</td>\n",
       "      <td>02</td>\n",
       "      <td>29</td>\n",
       "      <td>23</td>\n",
       "    </tr>\n",
       "    <tr>\n",
       "      <th>4156564</th>\n",
       "      <td>2020-02-29 23:54:44 UTC</td>\n",
       "      <td>0.32</td>\n",
       "      <td>02</td>\n",
       "      <td>29</td>\n",
       "      <td>23</td>\n",
       "    </tr>\n",
       "    <tr>\n",
       "      <th>4156565</th>\n",
       "      <td>2020-02-29 23:54:44 UTC</td>\n",
       "      <td>4.75</td>\n",
       "      <td>02</td>\n",
       "      <td>29</td>\n",
       "      <td>23</td>\n",
       "    </tr>\n",
       "    <tr>\n",
       "      <th>4156566</th>\n",
       "      <td>2020-02-29 23:54:44 UTC</td>\n",
       "      <td>95.08</td>\n",
       "      <td>02</td>\n",
       "      <td>29</td>\n",
       "      <td>23</td>\n",
       "    </tr>\n",
       "  </tbody>\n",
       "</table>\n",
       "<p>505790 rows × 5 columns</p>\n",
       "</div>"
      ],
      "text/plain": [
       "                      event_time  price   m   d   t\n",
       "60       2020-01-01 00:06:07 UTC   2.16  01  01  00\n",
       "61       2020-01-01 00:06:07 UTC   7.92  01  01  00\n",
       "590      2020-01-01 00:51:38 UTC  14.51  01  01  00\n",
       "591      2020-01-01 00:52:00 UTC  19.37  01  01  00\n",
       "593      2020-01-01 00:52:11 UTC  10.95  01  01  00\n",
       "...                          ...    ...  ..  ..  ..\n",
       "4156349  2020-02-29 23:46:01 UTC  49.21  02  29  23\n",
       "4156563  2020-02-29 23:54:44 UTC   7.83  02  29  23\n",
       "4156564  2020-02-29 23:54:44 UTC   0.32  02  29  23\n",
       "4156565  2020-02-29 23:54:44 UTC   4.75  02  29  23\n",
       "4156566  2020-02-29 23:54:44 UTC  95.08  02  29  23\n",
       "\n",
       "[505790 rows x 5 columns]"
      ]
     },
     "execution_count": 13,
     "metadata": {},
     "output_type": "execute_result"
    }
   ],
   "source": [
    "# 시간대별 평균 구매 횟수\n",
    "data_time = data[data['event_type'].isin(['purchase'])][['event_time','price']]\n",
    "data_time = pd.DataFrame(data_time)\n",
    "data_time['m'] = [i[5:7] for i in data_time['event_time']]\n",
    "data_time['d'] = [i[8:10] for i in data_time['event_time']]\n",
    "data_time['t'] = [i[11:13] for i in data_time['event_time']]\n",
    "data_time"
   ]
  },
  {
   "cell_type": "code",
   "execution_count": 14,
   "metadata": {},
   "outputs": [
    {
     "data": {
      "image/png": "[encoded data removed]",
      "text/plain": [
       "<Figure size 432x288 with 1 Axes>"
      ]
     },
     "metadata": {
      "needs_background": "light"
     },
     "output_type": "display_data"
    }
   ],
   "source": [
    "# 월별/일별/시간별 매출 합계\n",
    "# data = data_time.groupby(['d'])['price'].sum().plot.line();\n",
    "fig, ax = plt.subplots()\n",
    "d_day = data_time.groupby(['d'])['price'].sum()\n",
    "d_day.plot.line()\n",
    "\n",
    "# 이미지 내보내기\n",
    "fig.savefig('example_graph1.png')\n",
    "\n",
    "# HTML 내보내기\n",
    "fig = go.Figure(data=px.line(d_day))\n",
    "fig.write_html('example_graph1.html', default_width = '100%' , default_height = '60%')"
   ]
  },
  {
   "cell_type": "code",
   "execution_count": 15,
   "metadata": {},
   "outputs": [
    {
     "data": {
      "image/png": "[encoded data removed]",
      "text/plain": [
       "<Figure size 432x288 with 1 Axes>"
      ]
     },
     "metadata": {
      "needs_background": "light"
     },
     "output_type": "display_data"
    }
   ],
   "source": [
    "# 시간별 매출 합계\n",
    "fig, ax = plt.subplots()\n",
    "d_time = data_time.groupby(['t'])['price'].sum()\n",
    "d_time.plot.line()\n",
    "\n",
    "# 이미지 내보내기\n",
    "fig.savefig('example_graph2.png')\n",
    "\n",
    "# HTML 내보내기\n",
    "fig = go.Figure(data=px.line(d_time))\n",
    "fig.write_html('example_graph2.html')"
   ]
  },
  {
   "cell_type": "code",
   "execution_count": 16,
   "metadata": {},
   "outputs": [
    {
     "data": {
      "text/plain": [
       "(4319996, 12)"
      ]
     },
     "execution_count": 16,
     "metadata": {},
     "output_type": "execute_result"
    }
   ],
   "source": [
    "# 특성 엔지니어링\n",
    "def preprocess2(df): \n",
    "    # 1) crosstab\n",
    "    dataset = pd.crosstab(index=[df.user_id, df.category_id, df.product_id], columns=df.event_type).reset_index()\n",
    "\n",
    "    # 2) 주문번호 컬럼 생성\n",
    "    dataset['ordernumber'] = dataset['user_id'] + dataset['product_id'] + dataset['category_id']\n",
    "\n",
    "    # 3) 가격/구매시간 컬럼 추가\n",
    "    price = data.groupby(['ordernumber'])['price'].last().reset_index(name = 'price')\n",
    "    dataset = pd.merge(dataset, price, on='ordernumber', how='left')\n",
    "\n",
    "    pur_time = data[(data['event_type']=='purchase')].groupby(['ordernumber'])['datetime'].last().reset_index(name = 'pur_time')\n",
    "    dataset = pd.merge(dataset, pur_time, on='ordernumber', how='left')\n",
    "\n",
    "    # 4) first_time, last_time 컬럼 생성\n",
    "    # data.groupby(['ordernumber'])['datetime'].agg(np.min)\n",
    "    first_time = data[(data['event_type']=='view')].groupby(['ordernumber'])['datetime'].first().reset_index(name = 'first_time')\n",
    "    last_time = data[(data['event_type']=='view')].groupby(['ordernumber'])['datetime'].last().reset_index(name = 'last_time')\n",
    "\n",
    "    dataset = pd.merge(dataset, first_time, on='ordernumber', how='left')\n",
    "    dataset = pd.merge(dataset, last_time, on='ordernumber', how='left')\n",
    "\n",
    "    # 5) purchase_status 컬럼 생성\n",
    "    dataset['purchase_status'] = dataset['purchase_status'] = [1 if i >= 1 else 0 for i in dataset['purchase']]\n",
    "\n",
    "    # 6) dif_time 컬럼 생성\n",
    "    dataset['dif_time'] = (dataset['last_time'] - dataset['first_time']).dt.seconds / 60 \n",
    "    dataset['dif_time'] = dataset['dif_time'].replace(np.nan, 0)\n",
    "\n",
    "    # 7) Overfitting 방지\n",
    "    dataset.drop(columns=['purchase','ordernumber'], inplace=True)\n",
    "\n",
    "    return dataset\n",
    "\n",
    "dataset = preprocess2(data)\n",
    "dataset.shape"
   ]
  },
  {
   "cell_type": "code",
   "execution_count": 17,
   "metadata": {},
   "outputs": [],
   "source": [
    "dataset.to_csv('dataset.csv')"
   ]
  },
  {
   "cell_type": "markdown",
   "metadata": {},
   "source": [
    "## ML Modeling"
   ]
  },
  {
   "cell_type": "code",
   "execution_count": 18,
   "metadata": {},
   "outputs": [],
   "source": [
    "from sklearn.ensemble import RandomForestClassifier\n",
    "from sklearn.metrics import accuracy_score\n",
    "from sklearn.metrics import classification_report\n",
    "from sklearn.metrics import f1_score\n",
    "from sklearn.model_selection import GridSearchCV \n",
    "from sklearn.model_selection import train_test_split\n",
    "from sklearn.tree import DecisionTreeClassifier\n",
    "\n",
    "import xgboost\n",
    "from xgboost import XGBClassifier"
   ]
  },
  {
   "cell_type": "code",
   "execution_count": 19,
   "metadata": {},
   "outputs": [],
   "source": [
    "dataset = pd.read_csv('dataset.csv')\n",
    "dataset = dataset.drop(['Unnamed: 0'], axis=1)\n",
    "\n",
    "dataset['pur_time'] = pd.to_datetime(dataset['first_time']).map(dt.datetime.toordinal)\n",
    "dataset['first_time'] = pd.to_datetime(dataset['first_time']).map(dt.datetime.toordinal)\n",
    "dataset['last_time'] = pd.to_datetime(dataset['last_time']).map(dt.datetime.toordinal)\n",
    "\n",
    "print(dataset.shape)\n",
    "dataset.head"
   ]
  },
  {
   "cell_type": "code",
   "execution_count": 20,
   "metadata": {},
   "outputs": [],
   "source": [
    "# target baseline\n",
    "target = 'purchase_status'\n",
    "features = dataset.drop(columns=[target]).columns\n",
    "X_train = dataset[features]\n",
    "y_train = dataset[target]\n",
    "\n",
    "major = y_train.mode()[0]\n",
    "y_pred = [major]*len(y_train)\n",
    "\n",
    "print('기준 모델 정확도: {0:.4f}'.format(accuracy_score(y_train, y_pred)))\n",
    "\n",
    "# target 비율\n",
    "dataset[target].value_counts(normalize=True) # 데이터 불균형"
   ]
  },
  {
   "cell_type": "code",
   "execution_count": 21,
   "metadata": {},
   "outputs": [],
   "source": [
    "# 훈련/테스트 세트 분리\n",
    "X_train, X_test, y_train, y_test = train_test_split(X_train, y_train, test_size=0.4, shuffle=False)\n",
    "print(X_train.shape, X_test.shape, y_train.shape, y_test.shape)"
   ]
  },
  {
   "cell_type": "code",
   "execution_count": 22,
   "metadata": {},
   "outputs": [],
   "source": [
    "# 1) XGB Classifier\n",
    "model = XGBClassifier()\n",
    "model.fit(X_train, y_train)\n",
    "\n",
    "predictions = model.predict(X_test)\n",
    "\n",
    "accuracy = accuracy_score(y_test, predictions)\n",
    "print('Accuracy: %.2f%%' % (accuracy * 100.0))\n",
    "print('F1 score: ', f1_score(y_test, predictions))"
   ]
  },
  {
   "cell_type": "code",
   "execution_count": 23,
   "metadata": {},
   "outputs": [],
   "source": [
    "# GridSearchCV를 사용한 하이퍼파라미터 튜닝\n",
    "grids = {\n",
    "    'xgbclassifier__learning_rate': [0.01, 0.1],\n",
    "    'xgbclassifier__max_depth': [3,5,7,9,10],\n",
    "    'xgbclassifier__scale_pos_weight': [1,99]\n",
    "    }\n",
    "\n",
    "xgb_grid = GridSearchCV(\n",
    "        model,\n",
    "        param_grid=grids,\n",
    "        cv=3,\n",
    "        scoring='f1',\n",
    "        verbose=1,\n",
    "        n_jobs=-1\n",
    "        )\n",
    "\n",
    "xgb_grid.fit(X_train, y_train);\n",
    "print(xgb_grid.best_params_)\n",
    "\n",
    "best1 = xgb_grid.best_estimator_\n",
    "pred1 = best1.predict(X_test)\n",
    "\n",
    "accuracy = accuracy_score(y_test, pred1)\n",
    "print('Accuracy: %.2f%%' % (accuracy * 100.0))\n",
    "print('F1 score: ', f1_score(y_test, pred1))"
   ]
  },
  {
   "cell_type": "code",
   "execution_count": 24,
   "metadata": {},
   "outputs": [],
   "source": [
    "# 2) Random Forest Classifier\n",
    "model2 = RandomForestClassifier()\n",
    "model2.fit(X_train, y_train)\n",
    "\n",
    "predictions = model2.predict(X_test)\n",
    "\n",
    "accuracy = accuracy_score(y_test, predictions)\n",
    "print('Accuracy: %.2f%%' % (accuracy * 100.0))\n",
    "print('F1 score: ', f1_score(y_test, predictions))"
   ]
  },
  {
   "cell_type": "code",
   "execution_count": 25,
   "metadata": {},
   "outputs": [],
   "source": [
    "# 3) Decision Tree Classifier\n",
    "model3 = DecisionTreeClassifier(max_depth=5, random_state=2)\n",
    "model3.fit(X_train, y_train)\n",
    "\n",
    "predictions = model3.predict(X_test)\n",
    "\n",
    "accuracy = accuracy_score(y_test, predictions)\n",
    "print('Accuracy: %.2f%%' % (accuracy * 100.0))\n",
    "print('F1 score: ', f1_score(y_test, predictions))"
   ]
  },
  {
   "cell_type": "code",
   "execution_count": 26,
   "metadata": {},
   "outputs": [],
   "source": [
    "# GridSearchCV를 사용한 하이퍼파라미터 튜닝\n",
    "param={\"min_samples_leaf\":[1, 3, 5, 7, 9],\n",
    "       \"max_depth\":[3, 4, 5, None],\n",
    "       \"min_samples_split\":[2, 3, 4, 5]}\n",
    "df = DecisionTreeClassifier()\n",
    "gs = GridSearchCV(df, param_grid=param, cv=3)\n",
    "gs.fit(X_train, y_train)\n",
    "\n",
    "best2 = gs.best_estimator_\n",
    "pred2 = best.predict(X_test)\n",
    "\n",
    "accuracy = accuracy_score(y_test, pred2)\n",
    "print('Accuracy: %.2f%%' % (accuracy * 100.0))\n",
    "print('F1 score: ', f1_score(y_test, pred2))"
   ]
  }
 ],
 "metadata": {
  "interpreter": {
   "hash": "88e05a4d080c20eb8b3738eddc00f10a933e2eef525451712bb9959b488cfb22"
  },
  "kernelspec": {
   "display_name": "Python 3.8.8 64-bit ('dashboard_1020': conda)",
   "name": "python3"
  },
  "language_info": {
   "codemirror_mode": {
    "name": "ipython",
    "version": 3
   },
   "file_extension": ".py",
   "mimetype": "text/x-python",
   "name": "python",
   "nbconvert_exporter": "python",
   "pygments_lexer": "ipython3",
   "version": "3.8.8"
  },
  "orig_nbformat": 4
 },
 "nbformat": 4,
 "nbformat_minor": 2
}
